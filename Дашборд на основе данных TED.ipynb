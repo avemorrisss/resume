{
 "cells": [
  {
   "cell_type": "markdown",
   "id": "1b91e3c0-566b-48a9-b710-5547c4a3cdf8",
   "metadata": {},
   "source": [
    "Описание данных\n",
    "\n",
    "https://disk.yandex.ru/d/wxU6ESbssDt_Fw\n",
    "\n",
    "https://disk.yandex.ru/d/wxU6ESbssDt_Fw\n",
    "\n",
    "https://disk.yandex.ru/d/nCKeBLOukkax9w\n",
    "\n",
    "https://disk.yandex.ru/d/7HT-knReYQUCRg\n",
    "\n",
    "https://disk.yandex.ru/d/Snakg91U5EpXcg\n",
    "\n",
    "https://disk.yandex.ru/d/D8COTtLtTRAPNg\n",
    "\n",
    "Файлы tableau_project_data_1.csv, tableau_project_data_2.csv, tableau_project_data_3.csv хранят данные выступлений. У них одинаковая структура:\n",
    "talk_id — идентификатор выступления;\n",
    "url — ссылка на запись выступления;\n",
    "title — название выступления;\n",
    "description — краткое описание;\n",
    "film_date — дата записи выступления;\n",
    "duration — длительность в секундах;\n",
    "views — количество просмотров;\n",
    "main_tag — основная категория, к которой относится выступление;\n",
    "speaker_id — уникальный идентификатор автора выступления;\n",
    "laughter_count — количество раз, когда аудитория смеялась в ходе выступления;\n",
    "applause_count — количество раз, когда аудитория аплодировала в ходе выступления;\n",
    "language — язык, на котором велось выступление;\n",
    "event_id — уникальный идентификатор конференции.\n",
    "Файл tableau_project_event_dict.csv — справочник конференций. Описание таблицы:\n",
    "conf_id — уникальный идентификатор конференции;\n",
    "event — название конференции;\n",
    "country — страна проведения конференции.\n",
    "Файл tableau_project_speakers_dict.csv — справочник авторов выступления. Описание таблицы:\n",
    "author_id — уникальный идентификатор автора выступления;\n",
    "speaker_name — имя автора;\n",
    "speaker_occupation — профессиональная область автора;\n",
    "speaker_description — описание профессиональной деятельности автора."
   ]
  },
  {
   "cell_type": "markdown",
   "id": "ee6588ee-f694-486a-bb5e-f94eb43e2a73",
   "metadata": {},
   "source": [
    "Проект: https://public.tableau.com/app/profile/maria.zhucova/viz/_17071626485200/sheet21"
   ]
  }
 ],
 "metadata": {
  "kernelspec": {
   "display_name": "Python [conda env:base] *",
   "language": "python",
   "name": "conda-base-py"
  },
  "language_info": {
   "codemirror_mode": {
    "name": "ipython",
    "version": 3
   },
   "file_extension": ".py",
   "mimetype": "text/x-python",
   "name": "python",
   "nbconvert_exporter": "python",
   "pygments_lexer": "ipython3",
   "version": "3.11.5"
  }
 },
 "nbformat": 4,
 "nbformat_minor": 5
}
