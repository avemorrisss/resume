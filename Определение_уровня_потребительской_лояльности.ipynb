{
 "cells": [
  {
   "cell_type": "markdown",
   "id": "b9a6b078-f17c-4a48-b444-babb705021ee",
   "metadata": {},
   "source": [
    "## Определение текущего уровня потребительской лояльности"
   ]
  },
  {
   "cell_type": "markdown",
   "id": "c8946e3d-a298-4b37-9031-0e4150a89b92",
   "metadata": {},
   "source": [
    "Перед компанией стоит задача определить текущий уровень потребительской лояльности, или NPS (от англ. Net Promoter Score), среди клиентов из России. \n",
    "Чтобы определить уровень лояльности, клиентам задавали классический вопрос: «Оцените по шкале от 1 до 10 вероятность того, что вы порекомендуете компанию друзьям и знакомым».\n",
    "Компания провела опрос и необходимо подготовить дашборд с его итогами. Большую базу данных для такой задачи разворачивать не стали и выгрузили данные в SQLite. \n",
    "Чтобы оценить результаты опроса, оценки обычно делят на три группы:\n",
    "9-10 баллов — «cторонники» (англ. promoters);\n",
    "7-8 баллов — «нейтралы» (англ. passives);\n",
    "0-6 баллов — «критики» (англ. detractors).\n",
    "Итоговое значение NPS рассчитывается по формуле: % «сторонников» - % «критиков».\n",
    "Таким образом, значение этого показателя варьируется от -100% (когда все клиенты «критики») до 100% (когда все клиенты лояльны к сервису). Но это крайние случаи, которые редко встретишь на практике. "
   ]
  },
  {
   "cell_type": "code",
   "execution_count": 23,
   "id": "fc7efa54",
   "metadata": {},
   "outputs": [],
   "source": [
    "import os\n",
    "import pandas as pd\n",
    "import numpy as np\n",
    "\n",
    "from sqlalchemy import create_engine"
   ]
  },
  {
   "cell_type": "code",
   "execution_count": 25,
   "id": "0017f8e7",
   "metadata": {},
   "outputs": [],
   "source": [
    "path_to_db_local = 'telecomm_csi.db'\n",
    "path_to_db_platform = '/datasets/telecomm_csi.db'\n",
    "path_to_db = None\n",
    "\n",
    "if os.path.exists(path_to_db_local):\n",
    "    path_to_db = path_to_db_local\n",
    "elif os.path.exists(path_to_db_platform):\n",
    "    path_to_db = path_to_db_platform\n",
    "else:\n",
    "    raise Exception('Файл с базой данных SQLite не найден!')\n",
    "\n",
    "if path_to_db:\n",
    "    engine = create_engine(f'sqlite:///{path_to_db}', echo=False)"
   ]
  },
  {
   "cell_type": "code",
   "execution_count": 27,
   "id": "84ebad43",
   "metadata": {},
   "outputs": [],
   "source": [
    "query = \"\"\"\n",
    "    SELECT\n",
    "      u.user_id,\n",
    "      u.lt_day,\n",
    "        CASE\n",
    "          WHEN u.lt_day <= 365 THEN 'новый'\n",
    "          WHEN u.lt_day > 365 THEN 'старый'\n",
    "          ELSE 'unknown'\n",
    "        END AS is_new,\n",
    "      u.age,\n",
    "        CASE\n",
    "          WHEN u.gender_segment = 1 THEN 'женский'\n",
    "          WHEN u.gender_segment = 0 THEN 'мужской'\n",
    "          ELSE 'другой'\n",
    "        END AS gender,\n",
    "      u.os_name,\n",
    "      u.cpe_type_name,\n",
    "      l.country,\n",
    "      l.city,\n",
    "      SUBSTRING(a.title, 3) AS age_segment,\n",
    "      SUBSTRING(t.title, 3) AS traffic_segment,\n",
    "      SUBSTRING(ls.title, 3) AS lifetime_segment,\n",
    "      u.nps_score,\n",
    "        CASE\n",
    "          WHEN u.nps_score >=9 THEN 'cторонники'\n",
    "          WHEN u.nps_score >= 7 THEN 'нейтралы'\n",
    "          WHEN u.nps_score <= 6 THEN 'критики'\n",
    "        END AS nps_group\n",
    " \n",
    "    FROM user AS u\n",
    "    LEFT OUTER JOIN location AS l ON u.location_id = l.location_id\n",
    "    LEFT OUTER JOIN age_segment AS a ON u.age_gr_id = a.age_gr_id\n",
    "    LEFT OUTER JOIN traffic_segment AS t ON u.tr_gr_id = t.tr_gr_id\n",
    "    LEFT OUTER JOIN lifetime_segment AS ls ON u.lt_gr_id = ls.lt_gr_id;\n",
    "\"\"\""
   ]
  },
  {
   "cell_type": "code",
   "execution_count": 29,
   "id": "3965faf2",
   "metadata": {},
   "outputs": [
    {
     "data": {
      "text/html": [
       "<div>\n",
       "<style scoped>\n",
       "    .dataframe tbody tr th:only-of-type {\n",
       "        vertical-align: middle;\n",
       "    }\n",
       "\n",
       "    .dataframe tbody tr th {\n",
       "        vertical-align: top;\n",
       "    }\n",
       "\n",
       "    .dataframe thead th {\n",
       "        text-align: right;\n",
       "    }\n",
       "</style>\n",
       "<table border=\"1\" class=\"dataframe\">\n",
       "  <thead>\n",
       "    <tr style=\"text-align: right;\">\n",
       "      <th></th>\n",
       "      <th>user_id</th>\n",
       "      <th>lt_day</th>\n",
       "      <th>is_new</th>\n",
       "      <th>age</th>\n",
       "      <th>gender</th>\n",
       "      <th>os_name</th>\n",
       "      <th>cpe_type_name</th>\n",
       "      <th>country</th>\n",
       "      <th>city</th>\n",
       "      <th>age_segment</th>\n",
       "      <th>traffic_segment</th>\n",
       "      <th>lifetime_segment</th>\n",
       "      <th>nps_score</th>\n",
       "      <th>nps_group</th>\n",
       "    </tr>\n",
       "  </thead>\n",
       "  <tbody>\n",
       "    <tr>\n",
       "      <th>0</th>\n",
       "      <td>A001A2</td>\n",
       "      <td>2320</td>\n",
       "      <td>старый</td>\n",
       "      <td>45.0</td>\n",
       "      <td>женский</td>\n",
       "      <td>ANDROID</td>\n",
       "      <td>SMARTPHONE</td>\n",
       "      <td>Россия</td>\n",
       "      <td>Уфа</td>\n",
       "      <td>45-54</td>\n",
       "      <td>1-5</td>\n",
       "      <td>36+</td>\n",
       "      <td>10</td>\n",
       "      <td>cторонники</td>\n",
       "    </tr>\n",
       "    <tr>\n",
       "      <th>1</th>\n",
       "      <td>A001WF</td>\n",
       "      <td>2344</td>\n",
       "      <td>старый</td>\n",
       "      <td>53.0</td>\n",
       "      <td>мужской</td>\n",
       "      <td>ANDROID</td>\n",
       "      <td>SMARTPHONE</td>\n",
       "      <td>Россия</td>\n",
       "      <td>Киров</td>\n",
       "      <td>45-54</td>\n",
       "      <td>1-5</td>\n",
       "      <td>36+</td>\n",
       "      <td>10</td>\n",
       "      <td>cторонники</td>\n",
       "    </tr>\n",
       "    <tr>\n",
       "      <th>2</th>\n",
       "      <td>A003Q7</td>\n",
       "      <td>467</td>\n",
       "      <td>старый</td>\n",
       "      <td>57.0</td>\n",
       "      <td>мужской</td>\n",
       "      <td>ANDROID</td>\n",
       "      <td>SMARTPHONE</td>\n",
       "      <td>Россия</td>\n",
       "      <td>Москва</td>\n",
       "      <td>55-64</td>\n",
       "      <td>20-25</td>\n",
       "      <td>13-24</td>\n",
       "      <td>10</td>\n",
       "      <td>cторонники</td>\n",
       "    </tr>\n",
       "  </tbody>\n",
       "</table>\n",
       "</div>"
      ],
      "text/plain": [
       "  user_id  lt_day  is_new   age   gender  os_name cpe_type_name country  \\\n",
       "0  A001A2    2320  старый  45.0  женский  ANDROID    SMARTPHONE  Россия   \n",
       "1  A001WF    2344  старый  53.0  мужской  ANDROID    SMARTPHONE  Россия   \n",
       "2  A003Q7     467  старый  57.0  мужской  ANDROID    SMARTPHONE  Россия   \n",
       "\n",
       "     city age_segment traffic_segment lifetime_segment  nps_score   nps_group  \n",
       "0     Уфа       45-54             1-5              36+         10  cторонники  \n",
       "1   Киров       45-54             1-5              36+         10  cторонники  \n",
       "2  Москва       55-64           20-25            13-24         10  cторонники  "
      ]
     },
     "execution_count": 29,
     "metadata": {},
     "output_type": "execute_result"
    }
   ],
   "source": [
    "df = pd.read_sql(query, engine)\n",
    "df.head(3)"
   ]
  },
  {
   "cell_type": "code",
   "execution_count": 30,
   "id": "9db04858",
   "metadata": {},
   "outputs": [],
   "source": [
    "df.to_csv('telecomm_csi_tableau.csv', index=False)"
   ]
  },
  {
   "cell_type": "markdown",
   "id": "cbbc3898",
   "metadata": {},
   "source": [
    "Проект: https://public.tableau.com/views/_17415277090900/sheet14?:language=en-US&:sid=&:redirect=auth&:display_count=n&:origin=viz_share_link"
   ]
  },
  {
   "cell_type": "code",
   "execution_count": null,
   "id": "781eb425-32bd-467f-b0fc-c74a83be8289",
   "metadata": {},
   "outputs": [],
   "source": []
  }
 ],
 "metadata": {
  "ExecuteTimeLog": [
   {
    "duration": 533,
    "start_time": "2024-02-23T09:04:15.749Z"
   },
   {
    "duration": 72,
    "start_time": "2024-02-23T09:04:16.758Z"
   },
   {
    "duration": 3,
    "start_time": "2024-02-23T09:09:59.699Z"
   },
   {
    "duration": 657,
    "start_time": "2024-02-23T09:10:04.799Z"
   },
   {
    "duration": 2,
    "start_time": "2024-02-23T09:10:33.722Z"
   },
   {
    "duration": 559,
    "start_time": "2024-02-23T09:10:34.629Z"
   },
   {
    "duration": 3,
    "start_time": "2024-02-23T09:12:10.630Z"
   },
   {
    "duration": 594,
    "start_time": "2024-02-23T09:12:11.177Z"
   },
   {
    "duration": 3,
    "start_time": "2024-02-23T09:12:36.039Z"
   },
   {
    "duration": 555,
    "start_time": "2024-02-23T09:12:36.418Z"
   },
   {
    "duration": 3,
    "start_time": "2024-02-23T09:12:51.042Z"
   },
   {
    "duration": 554,
    "start_time": "2024-02-23T09:12:51.434Z"
   },
   {
    "duration": 2,
    "start_time": "2024-02-23T09:12:56.400Z"
   },
   {
    "duration": 547,
    "start_time": "2024-02-23T09:12:56.836Z"
   },
   {
    "duration": 3,
    "start_time": "2024-02-23T09:13:12.264Z"
   },
   {
    "duration": 557,
    "start_time": "2024-02-23T09:13:12.564Z"
   },
   {
    "duration": 3,
    "start_time": "2024-02-23T09:15:03.521Z"
   },
   {
    "duration": 550,
    "start_time": "2024-02-23T09:15:04.086Z"
   },
   {
    "duration": 3,
    "start_time": "2024-02-23T09:15:18.986Z"
   },
   {
    "duration": 602,
    "start_time": "2024-02-23T09:15:19.791Z"
   },
   {
    "duration": 2,
    "start_time": "2024-02-23T09:15:29.597Z"
   },
   {
    "duration": 557,
    "start_time": "2024-02-23T09:15:29.948Z"
   },
   {
    "duration": 2,
    "start_time": "2024-02-23T09:16:28.477Z"
   },
   {
    "duration": 549,
    "start_time": "2024-02-23T09:16:28.832Z"
   },
   {
    "duration": 3,
    "start_time": "2024-02-23T09:16:37.160Z"
   },
   {
    "duration": 555,
    "start_time": "2024-02-23T09:16:37.450Z"
   },
   {
    "duration": 2,
    "start_time": "2024-02-23T09:16:48.123Z"
   },
   {
    "duration": 562,
    "start_time": "2024-02-23T09:16:48.398Z"
   },
   {
    "duration": 4,
    "start_time": "2024-02-23T09:24:30.485Z"
   },
   {
    "duration": 566,
    "start_time": "2024-02-23T09:24:30.889Z"
   },
   {
    "duration": 3,
    "start_time": "2024-02-23T09:26:14.692Z"
   },
   {
    "duration": 4789,
    "start_time": "2024-02-23T09:26:15.041Z"
   },
   {
    "duration": 3,
    "start_time": "2024-02-23T09:27:48.921Z"
   },
   {
    "duration": 7929,
    "start_time": "2024-02-23T09:27:49.252Z"
   },
   {
    "duration": 3,
    "start_time": "2024-02-23T09:28:32.387Z"
   },
   {
    "duration": 56,
    "start_time": "2024-02-23T09:28:32.831Z"
   },
   {
    "duration": 2,
    "start_time": "2024-02-23T09:28:34.025Z"
   },
   {
    "duration": 8216,
    "start_time": "2024-02-23T09:28:35.190Z"
   },
   {
    "duration": 2,
    "start_time": "2024-02-23T09:30:37.089Z"
   },
   {
    "duration": 5022,
    "start_time": "2024-02-23T09:30:37.627Z"
   },
   {
    "duration": 526,
    "start_time": "2024-02-23T09:31:48.276Z"
   },
   {
    "duration": 63,
    "start_time": "2024-02-23T09:31:48.804Z"
   },
   {
    "duration": 4,
    "start_time": "2024-02-23T09:31:48.874Z"
   },
   {
    "duration": 5234,
    "start_time": "2024-02-23T09:31:48.880Z"
   },
   {
    "duration": 4693,
    "start_time": "2024-02-23T09:31:54.116Z"
   },
   {
    "duration": 105,
    "start_time": "2024-02-23T09:37:41.012Z"
   },
   {
    "duration": 74,
    "start_time": "2024-02-23T09:37:52.538Z"
   },
   {
    "duration": 49,
    "start_time": "2024-02-23T09:38:37.278Z"
   },
   {
    "duration": 4121,
    "start_time": "2024-02-23T09:41:47.418Z"
   },
   {
    "duration": 5079,
    "start_time": "2024-02-23T09:42:24.295Z"
   },
   {
    "duration": 4248,
    "start_time": "2024-02-23T09:45:03.217Z"
   },
   {
    "duration": 496,
    "start_time": "2024-02-23T10:23:40.385Z"
   },
   {
    "duration": 103,
    "start_time": "2024-02-23T10:23:40.882Z"
   },
   {
    "duration": 3,
    "start_time": "2024-02-23T10:23:40.987Z"
   },
   {
    "duration": 4909,
    "start_time": "2024-02-23T10:23:40.992Z"
   },
   {
    "duration": 4056,
    "start_time": "2024-02-23T10:23:45.902Z"
   },
   {
    "duration": 486,
    "start_time": "2024-02-23T10:24:59.329Z"
   },
   {
    "duration": 65,
    "start_time": "2024-02-23T10:24:59.817Z"
   },
   {
    "duration": 3,
    "start_time": "2024-02-23T10:24:59.883Z"
   },
   {
    "duration": 4860,
    "start_time": "2024-02-23T10:24:59.888Z"
   },
   {
    "duration": 3934,
    "start_time": "2024-02-23T10:25:04.749Z"
   },
   {
    "duration": 51,
    "start_time": "2024-02-24T12:48:29.593Z"
   },
   {
    "duration": 530,
    "start_time": "2024-02-24T12:48:39.586Z"
   },
   {
    "duration": 95,
    "start_time": "2024-02-24T12:48:40.117Z"
   },
   {
    "duration": 3,
    "start_time": "2024-02-24T12:48:40.213Z"
   },
   {
    "duration": 5618,
    "start_time": "2024-02-24T12:48:40.218Z"
   },
   {
    "duration": 4874,
    "start_time": "2024-02-24T12:48:45.838Z"
   },
   {
    "duration": 560,
    "start_time": "2024-02-24T14:37:58.488Z"
   },
   {
    "duration": 10,
    "start_time": "2024-02-24T14:37:59.050Z"
   },
   {
    "duration": 12,
    "start_time": "2024-02-24T14:37:59.062Z"
   },
   {
    "duration": 6180,
    "start_time": "2024-02-24T14:37:59.075Z"
   },
   {
    "duration": 4551,
    "start_time": "2024-02-24T14:38:05.258Z"
   },
   {
    "duration": 600,
    "start_time": "2024-02-24T14:40:19.127Z"
   },
   {
    "duration": 12,
    "start_time": "2024-02-24T14:40:19.730Z"
   },
   {
    "duration": 4,
    "start_time": "2024-02-24T14:40:19.744Z"
   },
   {
    "duration": 6237,
    "start_time": "2024-02-24T14:40:19.749Z"
   },
   {
    "duration": 5984,
    "start_time": "2024-02-24T14:40:25.988Z"
   },
   {
    "duration": 97,
    "start_time": "2024-02-24T15:08:27.857Z"
   },
   {
    "duration": 751,
    "start_time": "2024-02-24T15:08:59.392Z"
   },
   {
    "duration": 594,
    "start_time": "2024-02-24T16:19:20.402Z"
   },
   {
    "duration": 11,
    "start_time": "2024-02-24T16:19:20.997Z"
   },
   {
    "duration": 6,
    "start_time": "2024-02-24T16:19:21.009Z"
   },
   {
    "duration": 6145,
    "start_time": "2024-02-24T16:19:21.016Z"
   },
   {
    "duration": 4873,
    "start_time": "2024-02-24T16:19:27.163Z"
   },
   {
    "duration": 9,
    "start_time": "2024-02-24T17:26:43.052Z"
   },
   {
    "duration": 43,
    "start_time": "2024-02-24T17:26:45.168Z"
   },
   {
    "duration": 521,
    "start_time": "2024-02-24T17:26:52.777Z"
   },
   {
    "duration": 82,
    "start_time": "2024-02-24T17:26:53.300Z"
   },
   {
    "duration": 3,
    "start_time": "2024-02-24T17:26:53.560Z"
   },
   {
    "duration": 436,
    "start_time": "2024-02-24T17:26:55.454Z"
   },
   {
    "duration": 3,
    "start_time": "2024-02-24T17:27:18.134Z"
   },
   {
    "duration": 355,
    "start_time": "2024-02-24T17:27:19.516Z"
   },
   {
    "duration": 549,
    "start_time": "2024-02-24T17:27:30.759Z"
   },
   {
    "duration": 73,
    "start_time": "2024-02-24T17:27:31.309Z"
   },
   {
    "duration": 4,
    "start_time": "2024-02-24T17:27:31.383Z"
   },
   {
    "duration": 492,
    "start_time": "2024-02-24T17:27:31.388Z"
   },
   {
    "duration": 0,
    "start_time": "2024-02-24T17:27:31.882Z"
   },
   {
    "duration": 3,
    "start_time": "2024-02-24T17:28:15.125Z"
   },
   {
    "duration": 359,
    "start_time": "2024-02-24T17:28:16.416Z"
   },
   {
    "duration": 3,
    "start_time": "2024-02-24T17:29:04.541Z"
   },
   {
    "duration": 5724,
    "start_time": "2024-02-24T17:29:06.958Z"
   },
   {
    "duration": 3,
    "start_time": "2024-02-24T17:30:18.929Z"
   },
   {
    "duration": 5117,
    "start_time": "2024-02-24T17:30:19.999Z"
   },
   {
    "duration": 4286,
    "start_time": "2024-02-24T17:32:09.008Z"
   },
   {
    "duration": 3,
    "start_time": "2024-02-24T17:42:52.633Z"
   },
   {
    "duration": 369,
    "start_time": "2024-02-24T17:42:53.860Z"
   },
   {
    "duration": 3,
    "start_time": "2024-02-24T17:43:04.421Z"
   },
   {
    "duration": 3,
    "start_time": "2024-02-24T17:44:05.560Z"
   },
   {
    "duration": 5233,
    "start_time": "2024-02-24T17:44:06.843Z"
   },
   {
    "duration": 498,
    "start_time": "2024-02-24T17:48:50.881Z"
   },
   {
    "duration": 65,
    "start_time": "2024-02-24T17:48:51.381Z"
   },
   {
    "duration": 3,
    "start_time": "2024-02-24T17:48:51.448Z"
   },
   {
    "duration": 5425,
    "start_time": "2024-02-24T17:48:51.452Z"
   },
   {
    "duration": 4938,
    "start_time": "2024-02-24T17:48:56.879Z"
   },
   {
    "duration": 3,
    "start_time": "2024-02-24T19:45:58.620Z"
   },
   {
    "duration": 58,
    "start_time": "2024-02-24T19:45:58.997Z"
   },
   {
    "duration": 4,
    "start_time": "2024-02-24T19:45:59.515Z"
   },
   {
    "duration": 700,
    "start_time": "2024-02-24T19:46:00.960Z"
   },
   {
    "duration": 3,
    "start_time": "2024-02-24T19:49:07.822Z"
   },
   {
    "duration": 362,
    "start_time": "2024-02-24T19:49:09.173Z"
   },
   {
    "duration": 3,
    "start_time": "2024-02-24T19:49:23.060Z"
   },
   {
    "duration": 5616,
    "start_time": "2024-02-24T19:49:24.063Z"
   },
   {
    "duration": 520,
    "start_time": "2024-02-24T19:49:47.149Z"
   },
   {
    "duration": 66,
    "start_time": "2024-02-24T19:49:47.670Z"
   },
   {
    "duration": 4,
    "start_time": "2024-02-24T19:49:47.738Z"
   },
   {
    "duration": 5493,
    "start_time": "2024-02-24T19:49:47.743Z"
   },
   {
    "duration": 4418,
    "start_time": "2024-02-24T19:49:53.238Z"
   },
   {
    "duration": 518,
    "start_time": "2024-02-25T20:16:03.022Z"
   },
   {
    "duration": 9,
    "start_time": "2024-02-25T20:16:03.542Z"
   },
   {
    "duration": 29,
    "start_time": "2024-02-25T20:16:03.553Z"
   },
   {
    "duration": 549,
    "start_time": "2024-02-25T20:23:17.492Z"
   },
   {
    "duration": 10,
    "start_time": "2024-02-25T20:23:18.043Z"
   },
   {
    "duration": 13,
    "start_time": "2024-02-25T20:23:18.055Z"
   },
   {
    "duration": 43,
    "start_time": "2024-02-25T20:23:34.562Z"
   },
   {
    "duration": 514,
    "start_time": "2024-02-25T20:23:36.352Z"
   },
   {
    "duration": 10,
    "start_time": "2024-02-25T20:23:37.186Z"
   },
   {
    "duration": 3,
    "start_time": "2024-02-25T20:23:38.170Z"
   },
   {
    "duration": 46,
    "start_time": "2024-02-25T20:23:49.385Z"
   },
   {
    "duration": 483,
    "start_time": "2024-02-25T20:23:52.275Z"
   },
   {
    "duration": 9,
    "start_time": "2024-02-25T20:23:52.930Z"
   },
   {
    "duration": 4,
    "start_time": "2024-02-25T20:23:53.857Z"
   },
   {
    "duration": 467,
    "start_time": "2024-02-25T20:27:46.669Z"
   },
   {
    "duration": 9,
    "start_time": "2024-02-25T20:27:47.138Z"
   },
   {
    "duration": 3,
    "start_time": "2024-02-25T20:27:47.149Z"
   }
  ],
  "kernelspec": {
   "display_name": "Python [conda env:base] *",
   "language": "python",
   "name": "conda-base-py"
  },
  "language_info": {
   "codemirror_mode": {
    "name": "ipython",
    "version": 3
   },
   "file_extension": ".py",
   "mimetype": "text/x-python",
   "name": "python",
   "nbconvert_exporter": "python",
   "pygments_lexer": "ipython3",
   "version": "3.11.5"
  },
  "toc": {
   "base_numbering": 1,
   "nav_menu": {},
   "number_sections": true,
   "sideBar": true,
   "skip_h1_title": true,
   "title_cell": "Table of Contents",
   "title_sidebar": "Contents",
   "toc_cell": false,
   "toc_position": {},
   "toc_section_display": true,
   "toc_window_display": false
  }
 },
 "nbformat": 4,
 "nbformat_minor": 5
}
